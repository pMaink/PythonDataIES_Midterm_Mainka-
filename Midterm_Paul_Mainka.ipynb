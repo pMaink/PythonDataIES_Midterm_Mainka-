{
 "cells": [
  {
   "cell_type": "code",
   "execution_count": 2,
   "metadata": {},
   "outputs": [],
   "source": [
    "import requests\n",
    "import bs4\n",
    "from bs4 import BeautifulSoup\n",
    "from time import sleep\n",
    "import tqdm\n",
    "import pandas as pd\n",
    "import numpy as np"
   ]
  },
  {
   "cell_type": "markdown",
   "metadata": {},
   "source": [
    "### Get-Soup function\n",
    "#### Gets the text from the Website"
   ]
  },
  {
   "cell_type": "code",
   "execution_count": 3,
   "metadata": {},
   "outputs": [],
   "source": [
    "def getSoup(link):\n",
    "    '''\n",
    "    No big explanation needed as copied from the lecture, however I kept it on purpose out of the 'DownloaderMidterm' class, because it is in principle \n",
    "    reusable for multiple classes. Therefore it is more efficient to keep it outside of the class instead of using it as a class method for each class\n",
    "    (although of course here I just have one class so it would be the same).\n",
    "    '''\n",
    "    sleep(0.1) #to be kind to the website\n",
    "    r = requests.get(link)\n",
    "    r.encoding = 'UTF-8'\n",
    "    return BeautifulSoup(r.text,'lxml') #returns BeautifulSoup object in 'lxml' style"
   ]
  },
  {
   "cell_type": "code",
   "execution_count": 4,
   "metadata": {},
   "outputs": [],
   "source": [
    "soup=getSoup('http://wiki.lspace.org/mediawiki/List_of_Pratchett_characters')"
   ]
  },
  {
   "cell_type": "code",
   "execution_count": 15,
   "metadata": {},
   "outputs": [],
   "source": [
    "links=soup.find('span', id='Ankh-Morpork_and_The_Watch').parent.findNext('ul').find_all('li')\n",
    "characters= ['http://wiki.lspace.org' + li.find('a')['href'] for li in links]"
   ]
  },
  {
   "cell_type": "code",
   "execution_count": 38,
   "metadata": {},
   "outputs": [],
   "source": [
    "soup2 = getSoup(characters[0])"
   ]
  },
  {
   "cell_type": "code",
   "execution_count": 39,
   "metadata": {},
   "outputs": [
    {
     "data": {
      "text/plain": [
       "<b>Mrs Cake</b>"
      ]
     },
     "execution_count": 39,
     "metadata": {},
     "output_type": "execute_result"
    }
   ],
   "source": [
    "soup2.find('table').find('tr').find('b')"
   ]
  },
  {
   "cell_type": "code",
   "execution_count": 22,
   "metadata": {},
   "outputs": [
    {
     "data": {
      "text/plain": [
       "'Evadne Cake'"
      ]
     },
     "execution_count": 22,
     "metadata": {},
     "output_type": "execute_result"
    }
   ],
   "source": [
    "Name = soup2.find('b', text='Name').parent.next_sibling.next_sibling.text.strip()"
   ]
  },
  {
   "cell_type": "code",
   "execution_count": 29,
   "metadata": {},
   "outputs": [],
   "source": [
    "Books=soup2.find('a', title='Bibliography').parent.parent.next_sibling.next_sibling.find_all('a')\n",
    "book_list=[boo.text.strip() for boo in Books]"
   ]
  },
  {
   "cell_type": "code",
   "execution_count": 46,
   "metadata": {},
   "outputs": [],
   "source": [
    "alle_Namen=[]\n",
    "alle_Bucher=[]\n",
    "\n",
    "for char in characters:\n",
    "    soup2 = getSoup(char)\n",
    "    Name = soup2.find('b', text='Name').parent.next_sibling.next_sibling.text.strip() #finds all the Names except for Mr. Slant because his name is not specified in the right position\n",
    "    alle_Namen.append(Name)\n",
    "    Books=soup2.find('a', title='Bibliography').parent.parent.next_sibling.next_sibling.find_all('a')\n",
    "    book_list=[boo.text.strip() for boo in Books]\n",
    "    alle_Bucher.append(book_list)"
   ]
  },
  {
   "cell_type": "code",
   "execution_count": 44,
   "metadata": {},
   "outputs": [],
   "source": [
    "df1= pd.DataFrame({'character_name': alle_Namen}) \n",
    "df1.loc[15,'character_name']='Mr. Slant' # Mr. Slant has to be added because his name is not in the correct position on the wiki page, alternatively \n",
    "#'soup2.find('table').find('tr').find('b')' could have been used to scrape the names from the right hand side table header but then I would not have retrieved the full names"
   ]
  },
  {
   "cell_type": "code",
   "execution_count": 58,
   "metadata": {},
   "outputs": [],
   "source": [
    "df2= pd.DataFrame(alle_Bucher)"
   ]
  },
  {
   "cell_type": "code",
   "execution_count": 62,
   "metadata": {},
   "outputs": [],
   "source": [
    "df_wide= pd.concat([df1,df2],axis=1) \n",
    "df_long =df_wide.melt(id_vars='character_name', var_name='key', value_name='book').drop(['key'], axis=1).dropna().reset_index(drop=True)"
   ]
  },
  {
   "cell_type": "code",
   "execution_count": 63,
   "metadata": {},
   "outputs": [
    {
     "data": {
      "text/html": [
       "<div>\n",
       "<style scoped>\n",
       "    .dataframe tbody tr th:only-of-type {\n",
       "        vertical-align: middle;\n",
       "    }\n",
       "\n",
       "    .dataframe tbody tr th {\n",
       "        vertical-align: top;\n",
       "    }\n",
       "\n",
       "    .dataframe thead th {\n",
       "        text-align: right;\n",
       "    }\n",
       "</style>\n",
       "<table border=\"1\" class=\"dataframe\">\n",
       "  <thead>\n",
       "    <tr style=\"text-align: right;\">\n",
       "      <th></th>\n",
       "      <th>character_name</th>\n",
       "      <th>book</th>\n",
       "    </tr>\n",
       "  </thead>\n",
       "  <tbody>\n",
       "    <tr>\n",
       "      <th>0</th>\n",
       "      <td>Evadne Cake</td>\n",
       "      <td>Reaper Man</td>\n",
       "    </tr>\n",
       "    <tr>\n",
       "      <th>1</th>\n",
       "      <td>Fred Colon</td>\n",
       "      <td>Guards! Guards!</td>\n",
       "    </tr>\n",
       "    <tr>\n",
       "      <th>2</th>\n",
       "      <td>Marietta Cosmopilite</td>\n",
       "      <td>Moving Pictures</td>\n",
       "    </tr>\n",
       "    <tr>\n",
       "      <th>3</th>\n",
       "      <td>Detritus</td>\n",
       "      <td>Guards! Guards!</td>\n",
       "    </tr>\n",
       "    <tr>\n",
       "      <th>4</th>\n",
       "      <td>Claude Maximillian Overton Transpire Dibbler</td>\n",
       "      <td>Guards! Guards!</td>\n",
       "    </tr>\n",
       "    <tr>\n",
       "      <th>...</th>\n",
       "      <td>...</td>\n",
       "      <td>...</td>\n",
       "    </tr>\n",
       "    <tr>\n",
       "      <th>124</th>\n",
       "      <td>Havelock Vetinari</td>\n",
       "      <td>Making Money</td>\n",
       "    </tr>\n",
       "    <tr>\n",
       "      <th>125</th>\n",
       "      <td>Sir Samuel Vimes, Duke of Ankh</td>\n",
       "      <td>Raising Steam</td>\n",
       "    </tr>\n",
       "    <tr>\n",
       "      <th>126</th>\n",
       "      <td>Havelock Vetinari</td>\n",
       "      <td>Unseen Academicals</td>\n",
       "    </tr>\n",
       "    <tr>\n",
       "      <th>127</th>\n",
       "      <td>Sir Samuel Vimes, Duke of Ankh</td>\n",
       "      <td>Discworld Noir</td>\n",
       "    </tr>\n",
       "    <tr>\n",
       "      <th>128</th>\n",
       "      <td>Havelock Vetinari</td>\n",
       "      <td>Raising Steam</td>\n",
       "    </tr>\n",
       "  </tbody>\n",
       "</table>\n",
       "<p>129 rows × 2 columns</p>\n",
       "</div>"
      ],
      "text/plain": [
       "                                   character_name                book\n",
       "0                                     Evadne Cake          Reaper Man\n",
       "1                                      Fred Colon     Guards! Guards!\n",
       "2                            Marietta Cosmopilite     Moving Pictures\n",
       "3                                        Detritus     Guards! Guards!\n",
       "4    Claude Maximillian Overton Transpire Dibbler     Guards! Guards!\n",
       "..                                            ...                 ...\n",
       "124                             Havelock Vetinari        Making Money\n",
       "125                Sir Samuel Vimes, Duke of Ankh       Raising Steam\n",
       "126                             Havelock Vetinari  Unseen Academicals\n",
       "127                Sir Samuel Vimes, Duke of Ankh      Discworld Noir\n",
       "128                             Havelock Vetinari       Raising Steam\n",
       "\n",
       "[129 rows x 2 columns]"
      ]
     },
     "execution_count": 63,
     "metadata": {},
     "output_type": "execute_result"
    }
   ],
   "source": [
    "df_long"
   ]
  },
  {
   "cell_type": "code",
   "execution_count": null,
   "metadata": {},
   "outputs": [],
   "source": []
  }
 ],
 "metadata": {
  "kernelspec": {
   "display_name": "Python 3",
   "language": "python",
   "name": "python3"
  },
  "language_info": {
   "codemirror_mode": {
    "name": "ipython",
    "version": 3
   },
   "file_extension": ".py",
   "mimetype": "text/x-python",
   "name": "python",
   "nbconvert_exporter": "python",
   "pygments_lexer": "ipython3",
   "version": "3.7.7"
  }
 },
 "nbformat": 4,
 "nbformat_minor": 4
}
