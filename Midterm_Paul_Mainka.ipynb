{
 "cells": [
  {
   "cell_type": "code",
   "execution_count": 2,
   "metadata": {},
   "outputs": [],
   "source": [
    "import requests\n",
    "import bs4\n",
    "from bs4 import BeautifulSoup\n",
    "from time import sleep\n",
    "import tqdm\n",
    "import pandas as pd\n",
    "import numpy as np"
   ]
  },
  {
   "cell_type": "markdown",
   "metadata": {},
   "source": [
    "### Get-Soup function\n",
    "#### Gets the text from the Website"
   ]
  },
  {
   "cell_type": "code",
   "execution_count": 3,
   "metadata": {},
   "outputs": [],
   "source": [
    "def getSoup(link):\n",
    "    '''\n",
    "    No big explanation needed as copied from the lecture, however I kept it on purpose out of the 'DownloaderMidterm' class, because it is in principle \n",
    "    reusable for multiple classes. Therefore it is more efficient to keep it outside of the class instead of using it as a class method for each class\n",
    "    (although of course here I just have one class so it would be the same).\n",
    "    '''\n",
    "    sleep(0.1) #to be kind to the website\n",
    "    r = requests.get(link)\n",
    "    r.encoding = 'UTF-8'\n",
    "    return BeautifulSoup(r.text,'lxml') #returns BeautifulSoup object in 'lxml' style"
   ]
  },
  {
   "cell_type": "code",
   "execution_count": 4,
   "metadata": {},
   "outputs": [],
   "source": [
    "soup=getSoup('http://wiki.lspace.org/mediawiki/List_of_Pratchett_characters')"
   ]
  },
  {
   "cell_type": "code",
   "execution_count": 15,
   "metadata": {},
   "outputs": [],
   "source": [
    "links=soup.find('span', id='Ankh-Morpork_and_The_Watch').parent.findNext('ul').find_all('li')\n",
    "characters= ['http://wiki.lspace.org' + li.find('a')['href'] for li in links]"
   ]
  },
  {
   "cell_type": "code",
   "execution_count": 38,
   "metadata": {},
   "outputs": [],
   "source": [
    "soup2 = getSoup(characters[0])"
   ]
  },
  {
   "cell_type": "code",
   "execution_count": 39,
   "metadata": {},
   "outputs": [
    {
     "data": {
      "text/plain": [
       "<b>Mrs Cake</b>"
      ]
     },
     "execution_count": 39,
     "metadata": {},
     "output_type": "execute_result"
    }
   ],
   "source": [
    "soup2.find('table').find('tr').find('b')"
   ]
  },
  {
   "cell_type": "code",
   "execution_count": 22,
   "metadata": {},
   "outputs": [
    {
     "data": {
      "text/plain": [
       "'Evadne Cake'"
      ]
     },
     "execution_count": 22,
     "metadata": {},
     "output_type": "execute_result"
    }
   ],
   "source": [
    "Name = soup2.find('b', text='Name').parent.next_sibling.next_sibling.text.strip()"
   ]
  },
  {
   "cell_type": "code",
   "execution_count": 29,
   "metadata": {},
   "outputs": [],
   "source": [
    "Books=soup2.find('a', title='Bibliography').parent.parent.next_sibling.next_sibling.find_all('a')\n",
    "book_list=[boo.text.strip() for boo in Books]"
   ]
  },
  {
   "cell_type": "code",
   "execution_count": 73,
   "metadata": {},
   "outputs": [
    {
     "data": {
      "text/html": [
       "<div>\n",
       "<style scoped>\n",
       "    .dataframe tbody tr th:only-of-type {\n",
       "        vertical-align: middle;\n",
       "    }\n",
       "\n",
       "    .dataframe tbody tr th {\n",
       "        vertical-align: top;\n",
       "    }\n",
       "\n",
       "    .dataframe thead th {\n",
       "        text-align: right;\n",
       "    }\n",
       "</style>\n",
       "<table border=\"1\" class=\"dataframe\">\n",
       "  <thead>\n",
       "    <tr style=\"text-align: right;\">\n",
       "      <th></th>\n",
       "      <th>character_name</th>\n",
       "      <th>book</th>\n",
       "    </tr>\n",
       "  </thead>\n",
       "  <tbody>\n",
       "    <tr>\n",
       "      <th>0</th>\n",
       "      <td>Carrot Ironfoundersson</td>\n",
       "      <td>Snuff</td>\n",
       "    </tr>\n",
       "    <tr>\n",
       "      <th>1</th>\n",
       "      <td>Carrot Ironfoundersson</td>\n",
       "      <td>Thud!</td>\n",
       "    </tr>\n",
       "    <tr>\n",
       "      <th>2</th>\n",
       "      <td>Carrot Ironfoundersson</td>\n",
       "      <td>Men at Arms</td>\n",
       "    </tr>\n",
       "    <tr>\n",
       "      <th>3</th>\n",
       "      <td>Carrot Ironfoundersson</td>\n",
       "      <td>Jingo</td>\n",
       "    </tr>\n",
       "    <tr>\n",
       "      <th>4</th>\n",
       "      <td>Carrot Ironfoundersson</td>\n",
       "      <td>Night Watch</td>\n",
       "    </tr>\n",
       "    <tr>\n",
       "      <th>...</th>\n",
       "      <td>...</td>\n",
       "      <td>...</td>\n",
       "    </tr>\n",
       "    <tr>\n",
       "      <th>124</th>\n",
       "      <td>Willikins</td>\n",
       "      <td>Jingo</td>\n",
       "    </tr>\n",
       "    <tr>\n",
       "      <th>125</th>\n",
       "      <td>Willikins</td>\n",
       "      <td>Men at Arms</td>\n",
       "    </tr>\n",
       "    <tr>\n",
       "      <th>126</th>\n",
       "      <td>Willikins</td>\n",
       "      <td>Thud!</td>\n",
       "    </tr>\n",
       "    <tr>\n",
       "      <th>127</th>\n",
       "      <td>Willikins</td>\n",
       "      <td>Feet of Clay</td>\n",
       "    </tr>\n",
       "    <tr>\n",
       "      <th>128</th>\n",
       "      <td>Willikins</td>\n",
       "      <td>Night Watch</td>\n",
       "    </tr>\n",
       "  </tbody>\n",
       "</table>\n",
       "<p>129 rows × 2 columns</p>\n",
       "</div>"
      ],
      "text/plain": [
       "             character_name          book\n",
       "0    Carrot Ironfoundersson         Snuff\n",
       "1    Carrot Ironfoundersson         Thud!\n",
       "2    Carrot Ironfoundersson   Men at Arms\n",
       "3    Carrot Ironfoundersson         Jingo\n",
       "4    Carrot Ironfoundersson   Night Watch\n",
       "..                      ...           ...\n",
       "124               Willikins         Jingo\n",
       "125               Willikins   Men at Arms\n",
       "126               Willikins         Thud!\n",
       "127               Willikins  Feet of Clay\n",
       "128               Willikins   Night Watch\n",
       "\n",
       "[129 rows x 2 columns]"
      ]
     },
     "execution_count": 73,
     "metadata": {},
     "output_type": "execute_result"
    }
   ],
   "source": [
    "def df_create(link_list=characters):\n",
    "\n",
    "    alle_Namen=[]\n",
    "    alle_Bucher=[]\n",
    "\n",
    "    for char in characters:\n",
    "        soup2 = getSoup(char)\n",
    "        Name = soup2.find('b', text='Name').parent.next_sibling.next_sibling.text.strip() #finds all the Names except for Mr. Slant because his name is not specified in the right position\n",
    "        alle_Namen.append(Name)\n",
    "        Books=soup2.find('a', title='Bibliography').parent.parent.next_sibling.next_sibling.find_all('a')\n",
    "        book_list=[boo.text.strip() for boo in Books]\n",
    "        alle_Bucher.append(book_list)\n",
    "        \n",
    "    df1= pd.DataFrame({'character_name': alle_Namen}) \n",
    "    df1.loc[15,'character_name']='Mr. Slant' # Mr. Slant has to be added because his name is not in the correct position on the wiki page, alternatively \n",
    "    #'soup2.find('table').find('tr').find('b')' could have been used to scrape the names from the right hand side table header but then I would not have retrieved the full names\n",
    "    \n",
    "    df2= pd.DataFrame(alle_Bucher)\n",
    "    \n",
    "    df_wide= pd.concat([df1,df2],axis=1) \n",
    "    df_long =df_wide.melt(id_vars='character_name', var_name='key', value_name='book').drop(['key'], axis=1).dropna()\n",
    "    \n",
    "    df_long= df_long.sort_values('character_name').reset_index(drop=True)\n",
    "    \n",
    "    return df_long\n",
    "\n",
    "df_create()"
   ]
  },
  {
   "cell_type": "code",
   "execution_count": 44,
   "metadata": {},
   "outputs": [],
   "source": [
    "df1= pd.DataFrame({'character_name': alle_Namen}) \n",
    "df1.loc[15,'character_name']='Mr. Slant' # Mr. Slant has to be added because his name is not in the correct position on the wiki page, alternatively \n",
    "#'soup2.find('table').find('tr').find('b')' could have been used to scrape the names from the right hand side table header but then I would not have retrieved the full names"
   ]
  },
  {
   "cell_type": "code",
   "execution_count": 58,
   "metadata": {},
   "outputs": [],
   "source": [
    "df2= pd.DataFrame(alle_Bucher)"
   ]
  },
  {
   "cell_type": "code",
   "execution_count": 62,
   "metadata": {},
   "outputs": [],
   "source": [
    "df_wide= pd.concat([df1,df2],axis=1) \n",
    "df_long =df_wide.melt(id_vars='character_name', var_name='key', value_name='book').drop(['key'], axis=1).dropna().reset_index(drop=True)"
   ]
  },
  {
   "cell_type": "code",
   "execution_count": 79,
   "metadata": {},
   "outputs": [
    {
     "data": {
      "text/html": [
       "<div>\n",
       "<style scoped>\n",
       "    .dataframe tbody tr th:only-of-type {\n",
       "        vertical-align: middle;\n",
       "    }\n",
       "\n",
       "    .dataframe tbody tr th {\n",
       "        vertical-align: top;\n",
       "    }\n",
       "\n",
       "    .dataframe thead th {\n",
       "        text-align: right;\n",
       "    }\n",
       "</style>\n",
       "<table border=\"1\" class=\"dataframe\">\n",
       "  <thead>\n",
       "    <tr style=\"text-align: right;\">\n",
       "      <th></th>\n",
       "      <th>character_name</th>\n",
       "      <th>book</th>\n",
       "    </tr>\n",
       "  </thead>\n",
       "  <tbody>\n",
       "    <tr>\n",
       "      <th>13</th>\n",
       "      <td>Foul Ole Ron</td>\n",
       "      <td>Men at Arms</td>\n",
       "    </tr>\n",
       "    <tr>\n",
       "      <th>16</th>\n",
       "      <td>Delphine Angua von Überwald</td>\n",
       "      <td>Men at Arms</td>\n",
       "    </tr>\n",
       "    <tr>\n",
       "      <th>20</th>\n",
       "      <td>Willikins</td>\n",
       "      <td>Men at Arms</td>\n",
       "    </tr>\n",
       "    <tr>\n",
       "      <th>21</th>\n",
       "      <td>Evadne Cake</td>\n",
       "      <td>Men at Arms</td>\n",
       "    </tr>\n",
       "    <tr>\n",
       "      <th>22</th>\n",
       "      <td>Fred Colon</td>\n",
       "      <td>Men at Arms</td>\n",
       "    </tr>\n",
       "    <tr>\n",
       "      <th>26</th>\n",
       "      <td>Gaspode</td>\n",
       "      <td>Men at Arms</td>\n",
       "    </tr>\n",
       "    <tr>\n",
       "      <th>27</th>\n",
       "      <td>Carrot Ironfoundersson</td>\n",
       "      <td>Men at Arms</td>\n",
       "    </tr>\n",
       "    <tr>\n",
       "      <th>28</th>\n",
       "      <td>Leonard of Quirm (da Quirm)</td>\n",
       "      <td>Men at Arms</td>\n",
       "    </tr>\n",
       "    <tr>\n",
       "      <th>30</th>\n",
       "      <td>Sybil Deirdre Olgivanna Vimes (née Ramkin)</td>\n",
       "      <td>Men at Arms</td>\n",
       "    </tr>\n",
       "    <tr>\n",
       "      <th>36</th>\n",
       "      <td>Sir Samuel Vimes, Duke of Ankh</td>\n",
       "      <td>Men at Arms</td>\n",
       "    </tr>\n",
       "    <tr>\n",
       "      <th>40</th>\n",
       "      <td>Detritus</td>\n",
       "      <td>Men at Arms</td>\n",
       "    </tr>\n",
       "    <tr>\n",
       "      <th>67</th>\n",
       "      <td>Havelock Vetinari</td>\n",
       "      <td>Men at Arms</td>\n",
       "    </tr>\n",
       "  </tbody>\n",
       "</table>\n",
       "</div>"
      ],
      "text/plain": [
       "                                character_name         book\n",
       "13                                Foul Ole Ron  Men at Arms\n",
       "16                 Delphine Angua von Überwald  Men at Arms\n",
       "20                                   Willikins  Men at Arms\n",
       "21                                 Evadne Cake  Men at Arms\n",
       "22                                  Fred Colon  Men at Arms\n",
       "26                                     Gaspode  Men at Arms\n",
       "27                      Carrot Ironfoundersson  Men at Arms\n",
       "28                 Leonard of Quirm (da Quirm)  Men at Arms\n",
       "30  Sybil Deirdre Olgivanna Vimes (née Ramkin)  Men at Arms\n",
       "36              Sir Samuel Vimes, Duke of Ankh  Men at Arms\n",
       "40                                    Detritus  Men at Arms\n",
       "67                           Havelock Vetinari  Men at Arms"
      ]
     },
     "execution_count": 79,
     "metadata": {},
     "output_type": "execute_result"
    }
   ],
   "source": [
    "sum(df_long['book']=='Men at Arms')\n",
    "df_long.loc[df_long['book']=='Men at Arms']"
   ]
  },
  {
   "cell_type": "code",
   "execution_count": 86,
   "metadata": {},
   "outputs": [
    {
     "data": {
      "text/plain": [
       "[]"
      ]
     },
     "execution_count": 86,
     "metadata": {},
     "output_type": "execute_result"
    }
   ],
   "source": [
    "inf = df_long.loc[df_long['character_name']=='Visit-The-Infidel-With-Explanatory-Pamphlets']\n",
    "eva= df_long.loc[df_long['character_name']=='Evadne Cake']\n",
    "list(set(inf['book']).intersection(eva['book']))"
   ]
  },
  {
   "cell_type": "markdown",
   "metadata": {},
   "source": [
    "### Downloader Class\n",
    "#### Uses Get-Soup function with input link to get content from website specified and then gets links to further scrape sub-pages"
   ]
  },
  {
   "cell_type": "code",
   "execution_count": 153,
   "metadata": {},
   "outputs": [],
   "source": [
    "class DownloaderMidterm(): \n",
    "    def __init__(self):\n",
    "    \n",
    "        self.link = 'http://wiki.lspace.org/mediawiki/List_of_Pratchett_characters' #link of the main page where the links to the sub-pages are found\n",
    "        self.soup = getSoup(self.link) #get Soup of the main page\n",
    "        self.multi_link = self.multi_links() # calling self.multi_links() method when initialized so that other functions can use its output, output stored as a class attribute\n",
    "        self.df = self.df_create() #also called when initialized\n",
    "                \n",
    "    def multi_links(self, category='Ankh-Morpork_and_The_Watch'):\n",
    "        '''\n",
    "        Finds all the links which are leading to the sub-pages. Returns a list containing the links when called.\n",
    "        '''  \n",
    "        links=self.soup.find('span', id='Ankh-Morpork_and_The_Watch').parent.findNext('ul').find_all('li')\n",
    "        return ['http://wiki.lspace.org' + li.find('a')['href'] for li in links]\n",
    "    \n",
    "    def df_create(self):\n",
    "        \n",
    "        characters = self.multi_link \n",
    "        alle_Namen=[]\n",
    "        alle_Bucher=[]\n",
    "\n",
    "        for char in characters:\n",
    "            soup2 = getSoup(char)\n",
    "            Heading = soup2.find('table').find('tr').find('b').text.strip() #finds Names in Headers of right hand side table, but are not the full names so prefer the Name row if exists \n",
    "            Name = soup2.find('b', text='Name').parent.next_sibling.next_sibling.text.strip() #finds all the Names, except for Mr. Slant because his name is not specified in the right position\n",
    "            if Name in ['']:             # if Name exists in Name row appends/uses the full Name, if doesn't exist (ergo ='') then it uses the Name from the Headers of the table\n",
    "                alle_Namen.append(Heading)\n",
    "            else:\n",
    "                alle_Namen.append(Name)\n",
    "            Books = soup2.find('a', title='Bibliography').parent.parent.next_sibling.next_sibling.find_all('a')\n",
    "            book_list =[boo.text.strip() for boo in Books]\n",
    "            alle_Bucher.append(book_list)\n",
    "\n",
    "        df1 = pd.DataFrame({'character_name': alle_Namen}) \n",
    "        df2 = pd.DataFrame(alle_Bucher)\n",
    "\n",
    "        df_wide = pd.concat([df1,df2],axis=1) \n",
    "        df_long = df_wide.melt(id_vars='character_name', var_name='key', value_name='book').drop(['key'], axis=1).dropna()\n",
    "\n",
    "        df_long= df_long.sort_values('character_name').reset_index(drop=True)\n",
    "\n",
    "        return df_long\n",
    "     \n",
    "    def num_char(self, book=\"Men at Arms\", print_char= \"NO\"):\n",
    "        df_long= self.df  \n",
    "        if print_char in [\"Yes\", \"y\", \"Y\", \"yes\"]:\n",
    "            print(f'The number of characters in the book {book} are', sum(df_long['book']==book))\n",
    "            print('Here is a list of the characters:')\n",
    "            return df_long.loc[df_long['book']==book]\n",
    "        else:\n",
    "            return print(f'The number of characters in the book {book} are', sum(df_long['book']==book)) #counts number of books where the condtion is true\n",
    "\n",
    "    \n",
    "    def same_books(self, char1='Visit-The-Infidel-With-Explanatory-Pamphlets' ,char2='Evadne Cake'):\n",
    "        df_long= self.df \n",
    "        character1=df_long.loc[df_long['character_name']==char1]\n",
    "        character2=df_long.loc[df_long['character_name']==char2]\n",
    "        return list(set(character1['book']).intersection(character2['book'])) #finds intersection of two lists (or dataframes) and returns the commom elements in a list\n"
   ]
  },
  {
   "cell_type": "code",
   "execution_count": 150,
   "metadata": {},
   "outputs": [],
   "source": [
    "b= DownloaderMidterm()"
   ]
  },
  {
   "cell_type": "code",
   "execution_count": 154,
   "metadata": {},
   "outputs": [
    {
     "name": "stdout",
     "output_type": "stream",
     "text": [
      "The number of characters in the book Reaper Man are 3\n"
     ]
    },
    {
     "data": {
      "text/html": [
       "<div>\n",
       "<style scoped>\n",
       "    .dataframe tbody tr th:only-of-type {\n",
       "        vertical-align: middle;\n",
       "    }\n",
       "\n",
       "    .dataframe tbody tr th {\n",
       "        vertical-align: top;\n",
       "    }\n",
       "\n",
       "    .dataframe thead th {\n",
       "        text-align: right;\n",
       "    }\n",
       "</style>\n",
       "<table border=\"1\" class=\"dataframe\">\n",
       "  <thead>\n",
       "    <tr style=\"text-align: right;\">\n",
       "      <th></th>\n",
       "      <th>character_name</th>\n",
       "      <th>book</th>\n",
       "    </tr>\n",
       "  </thead>\n",
       "  <tbody>\n",
       "    <tr>\n",
       "      <th>17</th>\n",
       "      <td>Claude Maximillian Overton Transpire Dibbler</td>\n",
       "      <td>Reaper Man</td>\n",
       "    </tr>\n",
       "    <tr>\n",
       "      <th>37</th>\n",
       "      <td>Evadne Cake</td>\n",
       "      <td>Reaper Man</td>\n",
       "    </tr>\n",
       "    <tr>\n",
       "      <th>84</th>\n",
       "      <td>Reginald Shoe</td>\n",
       "      <td>Reaper Man</td>\n",
       "    </tr>\n",
       "  </tbody>\n",
       "</table>\n",
       "</div>"
      ],
      "text/plain": [
       "                                  character_name        book\n",
       "17  Claude Maximillian Overton Transpire Dibbler  Reaper Man\n",
       "37                                   Evadne Cake  Reaper Man\n",
       "84                                 Reginald Shoe  Reaper Man"
      ]
     },
     "execution_count": 154,
     "metadata": {},
     "output_type": "execute_result"
    }
   ],
   "source": [
    "b.num_char(book= 'Reaper Man', print_char='y')"
   ]
  },
  {
   "cell_type": "code",
   "execution_count": 112,
   "metadata": {},
   "outputs": [
    {
     "data": {
      "text/html": [
       "<div>\n",
       "<style scoped>\n",
       "    .dataframe tbody tr th:only-of-type {\n",
       "        vertical-align: middle;\n",
       "    }\n",
       "\n",
       "    .dataframe tbody tr th {\n",
       "        vertical-align: top;\n",
       "    }\n",
       "\n",
       "    .dataframe thead th {\n",
       "        text-align: right;\n",
       "    }\n",
       "</style>\n",
       "<table border=\"1\" class=\"dataframe\">\n",
       "  <thead>\n",
       "    <tr style=\"text-align: right;\">\n",
       "      <th></th>\n",
       "      <th>character_name</th>\n",
       "      <th>book</th>\n",
       "    </tr>\n",
       "  </thead>\n",
       "  <tbody>\n",
       "    <tr>\n",
       "      <th>0</th>\n",
       "      <td>Carrot Ironfoundersson</td>\n",
       "      <td>Snuff</td>\n",
       "    </tr>\n",
       "    <tr>\n",
       "      <th>1</th>\n",
       "      <td>Carrot Ironfoundersson</td>\n",
       "      <td>Thud!</td>\n",
       "    </tr>\n",
       "    <tr>\n",
       "      <th>2</th>\n",
       "      <td>Carrot Ironfoundersson</td>\n",
       "      <td>Men at Arms</td>\n",
       "    </tr>\n",
       "    <tr>\n",
       "      <th>3</th>\n",
       "      <td>Carrot Ironfoundersson</td>\n",
       "      <td>Jingo</td>\n",
       "    </tr>\n",
       "    <tr>\n",
       "      <th>4</th>\n",
       "      <td>Carrot Ironfoundersson</td>\n",
       "      <td>Night Watch</td>\n",
       "    </tr>\n",
       "    <tr>\n",
       "      <th>...</th>\n",
       "      <td>...</td>\n",
       "      <td>...</td>\n",
       "    </tr>\n",
       "    <tr>\n",
       "      <th>124</th>\n",
       "      <td>Willikins</td>\n",
       "      <td>Jingo</td>\n",
       "    </tr>\n",
       "    <tr>\n",
       "      <th>125</th>\n",
       "      <td>Willikins</td>\n",
       "      <td>Men at Arms</td>\n",
       "    </tr>\n",
       "    <tr>\n",
       "      <th>126</th>\n",
       "      <td>Willikins</td>\n",
       "      <td>Thud!</td>\n",
       "    </tr>\n",
       "    <tr>\n",
       "      <th>127</th>\n",
       "      <td>Willikins</td>\n",
       "      <td>Feet of Clay</td>\n",
       "    </tr>\n",
       "    <tr>\n",
       "      <th>128</th>\n",
       "      <td>Willikins</td>\n",
       "      <td>Night Watch</td>\n",
       "    </tr>\n",
       "  </tbody>\n",
       "</table>\n",
       "<p>129 rows × 2 columns</p>\n",
       "</div>"
      ],
      "text/plain": [
       "             character_name          book\n",
       "0    Carrot Ironfoundersson         Snuff\n",
       "1    Carrot Ironfoundersson         Thud!\n",
       "2    Carrot Ironfoundersson   Men at Arms\n",
       "3    Carrot Ironfoundersson         Jingo\n",
       "4    Carrot Ironfoundersson   Night Watch\n",
       "..                      ...           ...\n",
       "124               Willikins         Jingo\n",
       "125               Willikins   Men at Arms\n",
       "126               Willikins         Thud!\n",
       "127               Willikins  Feet of Clay\n",
       "128               Willikins   Night Watch\n",
       "\n",
       "[129 rows x 2 columns]"
      ]
     },
     "execution_count": 112,
     "metadata": {},
     "output_type": "execute_result"
    }
   ],
   "source": [
    "b.df_create()"
   ]
  },
  {
   "cell_type": "code",
   "execution_count": 106,
   "metadata": {},
   "outputs": [
    {
     "data": {
      "text/plain": [
       "[]"
      ]
     },
     "execution_count": 106,
     "metadata": {},
     "output_type": "execute_result"
    }
   ],
   "source": [
    "b.same_books()"
   ]
  },
  {
   "cell_type": "code",
   "execution_count": 124,
   "metadata": {},
   "outputs": [
    {
     "data": {
      "text/plain": [
       "['Evadne Cake',\n",
       " 'Fred Colon',\n",
       " 'Marietta Cosmopilite',\n",
       " 'Detritus',\n",
       " 'Claude Maximillian Overton Transpire Dibbler',\n",
       " 'Dorfl',\n",
       " 'Rufus Drumknott',\n",
       " 'Gaspode',\n",
       " 'Carrot Ironfoundersson',\n",
       " 'Leonard of Quirm (da Quirm)',\n",
       " 'Cheery Littlebottom',\n",
       " 'Cecil Wormsborough St John Nobbs',\n",
       " 'Sybil Deirdre Olgivanna Vimes (née Ramkin)',\n",
       " 'Foul Ole Ron',\n",
       " 'Reginald Shoe',\n",
       " 'Mr. Slant',\n",
       " 'Delphine Angua von Überwald',\n",
       " 'Havelock Vetinari',\n",
       " 'Sir Samuel Vimes, Duke of Ankh',\n",
       " 'Visit-The-Infidel-With-Explanatory-Pamphlets',\n",
       " 'Willikins']"
      ]
     },
     "execution_count": 124,
     "metadata": {},
     "output_type": "execute_result"
    }
   ],
   "source": [
    "alle_Namen=[]\n",
    "\n",
    "for char in characters:\n",
    "        soup2 = getSoup(char)\n",
    "        Heading = soup2.find('table').find('tr').find('b').text.strip() \n",
    "        Name = soup2.find('b', text='Name').parent.next_sibling.next_sibling.text.strip() #finds all the Names except for Mr. Slant because his name is not specified in the right position\n",
    "        if Name in ['']:\n",
    "            alle_Namen.append(Heading)\n",
    "        else:\n",
    "            alle_Namen.append(Name)\n",
    "alle_Namen"
   ]
  },
  {
   "cell_type": "code",
   "execution_count": null,
   "metadata": {},
   "outputs": [],
   "source": []
  }
 ],
 "metadata": {
  "kernelspec": {
   "display_name": "Python 3",
   "language": "python",
   "name": "python3"
  },
  "language_info": {
   "codemirror_mode": {
    "name": "ipython",
    "version": 3
   },
   "file_extension": ".py",
   "mimetype": "text/x-python",
   "name": "python",
   "nbconvert_exporter": "python",
   "pygments_lexer": "ipython3",
   "version": "3.7.7"
  }
 },
 "nbformat": 4,
 "nbformat_minor": 4
}
