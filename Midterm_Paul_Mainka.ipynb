{
 "cells": [
  {
   "cell_type": "code",
   "execution_count": 1,
   "metadata": {},
   "outputs": [],
   "source": [
    "import requests\n",
    "import bs4\n",
    "from bs4 import BeautifulSoup\n",
    "from time import sleep\n",
    "import tqdm\n",
    "import pandas as pd\n",
    "import numpy as np"
   ]
  },
  {
   "cell_type": "markdown",
   "metadata": {},
   "source": [
    "### Get-Soup function\n",
    "#### Gets the text from the Website"
   ]
  },
  {
   "cell_type": "code",
   "execution_count": 2,
   "metadata": {},
   "outputs": [],
   "source": [
    "def getSoup(link):\n",
    "    '''\n",
    "    No big explanation needed as copied from the lecture, however I kept it on purpose out of the 'DownloaderMidterm' class, because it is in principle \n",
    "    reusable for multiple classes. Therefore it is more efficient to keep it outside of the class instead of using it as a class method for each class\n",
    "    (although of course here I just have one class so it would be the same).\n",
    "    '''\n",
    "    sleep(0.1) #to be kind to the website\n",
    "    r = requests.get(link)\n",
    "    r.encoding = 'UTF-8'\n",
    "    return BeautifulSoup(r.text,'lxml') #returns BeautifulSoup object in 'lxml' style"
   ]
  },
  {
   "cell_type": "markdown",
   "metadata": {},
   "source": [
    "### Downloader Class\n",
    "#### Uses Get-Soup function with input link to get content from website specified and then gets links to further scrape sub-pages"
   ]
  },
  {
   "cell_type": "code",
   "execution_count": 3,
   "metadata": {},
   "outputs": [],
   "source": [
    "class DownloaderMidterm(): \n",
    "    def __init__(self):\n",
    "        '''\n",
    "        'DownloaderMidterm' is a class which allows the user to scrape information about Discworld characters related to Ankh-Morpork and The Watch from its \n",
    "        Wikipedia page and then save this in a handy dataframe and gets some interesting statistics about it. When initialized 'DownloaderMidterm' gets the \n",
    "        scraped main page which contains the links to the sub-pages as a Beautiful Soup object, calls the first method 'multi_links' and the second method \n",
    "        'df_create'. The first method: multi_links retrieves the links which are necessary to access the sub pages which contain the desired data (names and\n",
    "        book appearances of different characters connceted to Ankh-Morpork and The Watch). The second method 'df_create' iterates over these links (therefore \n",
    "        the sub pages) and obtains the desired data, and then converts it into a 'pretty' dataframe. The results of these two methods are saved as a class \n",
    "        attribute and therefore are easily accessible. Note however, that despite that the methods are called automatically when the class is initialized they do \n",
    "        not automatically return any output. They are soley called so that they can be used in other class methods, so in case that the user forgets/ doesn't want \n",
    "        to call all the required methods in the correct order. To return an output or save the output to a variable the methods  'multi_links' and 'df_create' or the \n",
    "        corresponding class attributes have to be called by the user explicitly. The remaining methods 'num_char' and 'same_books' are some interesting statistics \n",
    "        of the scraped data. They have to be called by the user explicitly. 'num_char' returns the number of characters appearing in the specified book and \n",
    "        'same_books' returns a list of books in which two specified characters appear together. \n",
    "        '''\n",
    "    \n",
    "        self.link = 'http://wiki.lspace.org/mediawiki/List_of_Pratchett_characters' #link of the main page where the links to the sub-pages are found\n",
    "        self.soup = getSoup(self.link) #get Soup of the main page\n",
    "        self.multi_link = self.multi_links() # calling self.multi_links() method when initialized so that other functions can use its output, output stored as a class attribute\n",
    "        self.df = self.df_create() #also called when initialized\n",
    "                \n",
    "    def multi_links(self, category='Ankh-Morpork_and_The_Watch'):\n",
    "        '''\n",
    "        Finds all the links which are leading to the sub-pages. Returns a list containing the links when called.\n",
    "        '''  \n",
    "        links=self.soup.find('span', id='Ankh-Morpork_and_The_Watch').parent.findNext('ul').find_all('li')\n",
    "        return ['http://wiki.lspace.org' + li.find('a')['href'] for li in links]\n",
    "    \n",
    "    def df_create(self):\n",
    "        '''\n",
    "        Iterates over links/sub-pages and retrieves data. Saves the data to lists which then are combined into one handy dataframe. Returns dataframe when called.\n",
    "        ''' \n",
    "        characters = self.multi_link \n",
    "        alle_Namen=[]\n",
    "        alle_Bucher=[]\n",
    "\n",
    "        for char in characters:\n",
    "            soup2 = getSoup(char)\n",
    "            Heading = soup2.find('table').find('tr').find('b').text.strip() #finds Names in Headers of right hand side table, but are not the full names so prefer the Name row if exists \n",
    "            Name = soup2.find('b', text='Name').parent.next_sibling.next_sibling.text.strip() #finds all the Names, except for Mr. Slant because his name is not specified in the right position\n",
    "            if Name in ['']:             # if Name exists in Name row appends/uses the full Name, if doesn't exist (ergo ='') then it uses the Name from the Headers of the table\n",
    "                alle_Namen.append(Heading)\n",
    "            else:\n",
    "                alle_Namen.append(Name)\n",
    "            Books = soup2.find('a', title='Bibliography').parent.parent.next_sibling.next_sibling.find_all('a') #finds books \n",
    "            book_list =[boo.text.strip() for boo in Books] # iterates over books so that each book is own element in a list\n",
    "            alle_Bucher.append(book_list) #appends lsit of books for each character as a sublist to the main list\n",
    "\n",
    "        df1 = pd.DataFrame({'character_name': alle_Namen}) #create Dataframe only for names - has only one column\n",
    "        df2 = pd.DataFrame(alle_Bucher) #create dataframe only for books - has mulitple columns with different books in each column (rows equal characters)\n",
    "\n",
    "        df_wide = pd.concat([df1,df2],axis=1) #concat the two df: have now one wide dataframe with each character with corresponding books in same row\n",
    "        df_long = df_wide.melt(id_vars='character_name', var_name='key', value_name='book').drop(['key'], axis=1).dropna() #transform wide df to long with characters as ID variable\n",
    "\n",
    "        df_long= df_long.sort_values('character_name').reset_index(drop=True) #beauty operations: sort the df according to characters and reset the index\n",
    "\n",
    "        return df_long\n",
    "     \n",
    "    def num_char(self, book=\"Men at Arms\", print_char= \"NO\"):\n",
    "        '''\n",
    "        'num_char' takes a book name as input and returns the number of characters appearing in it. Default book set to \"Men at Arms\". If the user wants can specify that he wants to print\n",
    "        a small dataframe showing the characters appearing in the specified book.\n",
    "        '''\n",
    "        df_long= self.df  \n",
    "        if print_char in [\"Yes\", \"y\", \"Y\", \"yes\"]:\n",
    "            print(f'The number of characters in the book {book} are', sum(df_long['book']==book)) #counts number of books where the condtion is true\n",
    "            print('Here is a list of the characters:')\n",
    "            return df_long.loc[df_long['book']==book]\n",
    "        else:\n",
    "            return print(f'The number of characters in the book {book} are', sum(df_long['book']==book)) #counts number of books where the condtion is true\n",
    "\n",
    "    \n",
    "    def same_books(self, char1='Visit-The-Infidel-With-Explanatory-Pamphlets' ,char2='Evadne Cake'):\n",
    "        '''\n",
    "        'same_books' takes two character names as input and returns a list of books in which they appear together. Default characters are \n",
    "        'Visit-The-Infidel-With-Explanatory-Pamphlets' and 'Evadne Cake'. If there are no common appearances a notice of this is printed.\n",
    "        '''\n",
    "        df_long= self.df \n",
    "        character1 = df_long.loc[df_long['character_name']==char1] #retrieve appearances of characters\n",
    "        character2 = df_long.loc[df_long['character_name']==char2]\n",
    "        intersect = list(set(character1['book']).intersection(character2['book'])) #finds intersection of two lists (or dataframes) and returns the commom elements in a list\n",
    "        if not intersect: # if list is empty- ergo no common appearances\n",
    "            print(f'There are no common appearances of the characters {char1} and {char2} in any book')\n",
    "        else: # if list is not empty - so common appearances\n",
    "            print(f'The characters {char1} and {char2} appear together in the book(s):')\n",
    "            return intersect\n"
   ]
  },
  {
   "cell_type": "code",
   "execution_count": 4,
   "metadata": {},
   "outputs": [],
   "source": [
    "b= DownloaderMidterm()"
   ]
  },
  {
   "cell_type": "code",
   "execution_count": 5,
   "metadata": {},
   "outputs": [
    {
     "data": {
      "text/plain": [
       "['http://wiki.lspace.org/mediawiki/Mrs._Cake',\n",
       " 'http://wiki.lspace.org/mediawiki/Fred_Colon',\n",
       " 'http://wiki.lspace.org/mediawiki/Mrs._Marietta_Cosmopilite',\n",
       " 'http://wiki.lspace.org/mediawiki/Detritus',\n",
       " 'http://wiki.lspace.org/mediawiki/Cut-Me-Own-Throat_Dibbler',\n",
       " 'http://wiki.lspace.org/mediawiki/Dorfl',\n",
       " 'http://wiki.lspace.org/mediawiki/Rufus_Drumknott',\n",
       " 'http://wiki.lspace.org/mediawiki/Gaspode',\n",
       " 'http://wiki.lspace.org/mediawiki/Carrot_Ironfoundersson',\n",
       " 'http://wiki.lspace.org/mediawiki/Leonard_of_Quirm',\n",
       " 'http://wiki.lspace.org/mediawiki/Cheery_Littlebottom',\n",
       " 'http://wiki.lspace.org/mediawiki/Nobby_Nobbs',\n",
       " 'http://wiki.lspace.org/mediawiki/Lady_Sybil_Ramkin',\n",
       " 'http://wiki.lspace.org/mediawiki/Foul_Ole_Ron',\n",
       " 'http://wiki.lspace.org/mediawiki/Reg_Shoe',\n",
       " 'http://wiki.lspace.org/mediawiki/Mr._Slant',\n",
       " 'http://wiki.lspace.org/mediawiki/Angua_von_%C3%9Cberwald',\n",
       " 'http://wiki.lspace.org/mediawiki/Havelock_Vetinari',\n",
       " 'http://wiki.lspace.org/mediawiki/Samuel_Vimes',\n",
       " 'http://wiki.lspace.org/mediawiki/Visit-the-Infidel-with-Explanatory-Pamphlets',\n",
       " 'http://wiki.lspace.org/mediawiki/Willikins']"
      ]
     },
     "execution_count": 5,
     "metadata": {},
     "output_type": "execute_result"
    }
   ],
   "source": [
    "b.multi_link"
   ]
  },
  {
   "cell_type": "code",
   "execution_count": 6,
   "metadata": {},
   "outputs": [
    {
     "data": {
      "text/html": [
       "<div>\n",
       "<style scoped>\n",
       "    .dataframe tbody tr th:only-of-type {\n",
       "        vertical-align: middle;\n",
       "    }\n",
       "\n",
       "    .dataframe tbody tr th {\n",
       "        vertical-align: top;\n",
       "    }\n",
       "\n",
       "    .dataframe thead th {\n",
       "        text-align: right;\n",
       "    }\n",
       "</style>\n",
       "<table border=\"1\" class=\"dataframe\">\n",
       "  <thead>\n",
       "    <tr style=\"text-align: right;\">\n",
       "      <th></th>\n",
       "      <th>character_name</th>\n",
       "      <th>book</th>\n",
       "    </tr>\n",
       "  </thead>\n",
       "  <tbody>\n",
       "    <tr>\n",
       "      <th>0</th>\n",
       "      <td>Carrot Ironfoundersson</td>\n",
       "      <td>Snuff</td>\n",
       "    </tr>\n",
       "    <tr>\n",
       "      <th>1</th>\n",
       "      <td>Carrot Ironfoundersson</td>\n",
       "      <td>Thud!</td>\n",
       "    </tr>\n",
       "    <tr>\n",
       "      <th>2</th>\n",
       "      <td>Carrot Ironfoundersson</td>\n",
       "      <td>Men at Arms</td>\n",
       "    </tr>\n",
       "    <tr>\n",
       "      <th>3</th>\n",
       "      <td>Carrot Ironfoundersson</td>\n",
       "      <td>Jingo</td>\n",
       "    </tr>\n",
       "    <tr>\n",
       "      <th>4</th>\n",
       "      <td>Carrot Ironfoundersson</td>\n",
       "      <td>Night Watch</td>\n",
       "    </tr>\n",
       "    <tr>\n",
       "      <th>...</th>\n",
       "      <td>...</td>\n",
       "      <td>...</td>\n",
       "    </tr>\n",
       "    <tr>\n",
       "      <th>124</th>\n",
       "      <td>Willikins</td>\n",
       "      <td>Jingo</td>\n",
       "    </tr>\n",
       "    <tr>\n",
       "      <th>125</th>\n",
       "      <td>Willikins</td>\n",
       "      <td>Men at Arms</td>\n",
       "    </tr>\n",
       "    <tr>\n",
       "      <th>126</th>\n",
       "      <td>Willikins</td>\n",
       "      <td>Thud!</td>\n",
       "    </tr>\n",
       "    <tr>\n",
       "      <th>127</th>\n",
       "      <td>Willikins</td>\n",
       "      <td>Feet of Clay</td>\n",
       "    </tr>\n",
       "    <tr>\n",
       "      <th>128</th>\n",
       "      <td>Willikins</td>\n",
       "      <td>Night Watch</td>\n",
       "    </tr>\n",
       "  </tbody>\n",
       "</table>\n",
       "<p>129 rows × 2 columns</p>\n",
       "</div>"
      ],
      "text/plain": [
       "             character_name          book\n",
       "0    Carrot Ironfoundersson         Snuff\n",
       "1    Carrot Ironfoundersson         Thud!\n",
       "2    Carrot Ironfoundersson   Men at Arms\n",
       "3    Carrot Ironfoundersson         Jingo\n",
       "4    Carrot Ironfoundersson   Night Watch\n",
       "..                      ...           ...\n",
       "124               Willikins         Jingo\n",
       "125               Willikins   Men at Arms\n",
       "126               Willikins         Thud!\n",
       "127               Willikins  Feet of Clay\n",
       "128               Willikins   Night Watch\n",
       "\n",
       "[129 rows x 2 columns]"
      ]
     },
     "execution_count": 6,
     "metadata": {},
     "output_type": "execute_result"
    }
   ],
   "source": [
    "b.df"
   ]
  },
  {
   "cell_type": "markdown",
   "metadata": {},
   "source": [
    "### Answer to 3a."
   ]
  },
  {
   "cell_type": "code",
   "execution_count": 7,
   "metadata": {},
   "outputs": [
    {
     "name": "stdout",
     "output_type": "stream",
     "text": [
      "The number of characters in the book Men at Arms are 12\n",
      "Here is a list of the characters:\n"
     ]
    },
    {
     "data": {
      "text/html": [
       "<div>\n",
       "<style scoped>\n",
       "    .dataframe tbody tr th:only-of-type {\n",
       "        vertical-align: middle;\n",
       "    }\n",
       "\n",
       "    .dataframe tbody tr th {\n",
       "        vertical-align: top;\n",
       "    }\n",
       "\n",
       "    .dataframe thead th {\n",
       "        text-align: right;\n",
       "    }\n",
       "</style>\n",
       "<table border=\"1\" class=\"dataframe\">\n",
       "  <thead>\n",
       "    <tr style=\"text-align: right;\">\n",
       "      <th></th>\n",
       "      <th>character_name</th>\n",
       "      <th>book</th>\n",
       "    </tr>\n",
       "  </thead>\n",
       "  <tbody>\n",
       "    <tr>\n",
       "      <th>2</th>\n",
       "      <td>Carrot Ironfoundersson</td>\n",
       "      <td>Men at Arms</td>\n",
       "    </tr>\n",
       "    <tr>\n",
       "      <th>23</th>\n",
       "      <td>Delphine Angua von Überwald</td>\n",
       "      <td>Men at Arms</td>\n",
       "    </tr>\n",
       "    <tr>\n",
       "      <th>30</th>\n",
       "      <td>Detritus</td>\n",
       "      <td>Men at Arms</td>\n",
       "    </tr>\n",
       "    <tr>\n",
       "      <th>38</th>\n",
       "      <td>Evadne Cake</td>\n",
       "      <td>Men at Arms</td>\n",
       "    </tr>\n",
       "    <tr>\n",
       "      <th>42</th>\n",
       "      <td>Foul Ole Ron</td>\n",
       "      <td>Men at Arms</td>\n",
       "    </tr>\n",
       "    <tr>\n",
       "      <th>45</th>\n",
       "      <td>Fred Colon</td>\n",
       "      <td>Men at Arms</td>\n",
       "    </tr>\n",
       "    <tr>\n",
       "      <th>56</th>\n",
       "      <td>Gaspode</td>\n",
       "      <td>Men at Arms</td>\n",
       "    </tr>\n",
       "    <tr>\n",
       "      <th>61</th>\n",
       "      <td>Havelock Vetinari</td>\n",
       "      <td>Men at Arms</td>\n",
       "    </tr>\n",
       "    <tr>\n",
       "      <th>74</th>\n",
       "      <td>Leonard of Quirm (da Quirm)</td>\n",
       "      <td>Men at Arms</td>\n",
       "    </tr>\n",
       "    <tr>\n",
       "      <th>107</th>\n",
       "      <td>Sir Samuel Vimes, Duke of Ankh</td>\n",
       "      <td>Men at Arms</td>\n",
       "    </tr>\n",
       "    <tr>\n",
       "      <th>110</th>\n",
       "      <td>Sybil Deirdre Olgivanna Vimes (née Ramkin)</td>\n",
       "      <td>Men at Arms</td>\n",
       "    </tr>\n",
       "    <tr>\n",
       "      <th>125</th>\n",
       "      <td>Willikins</td>\n",
       "      <td>Men at Arms</td>\n",
       "    </tr>\n",
       "  </tbody>\n",
       "</table>\n",
       "</div>"
      ],
      "text/plain": [
       "                                 character_name         book\n",
       "2                        Carrot Ironfoundersson  Men at Arms\n",
       "23                  Delphine Angua von Überwald  Men at Arms\n",
       "30                                     Detritus  Men at Arms\n",
       "38                                  Evadne Cake  Men at Arms\n",
       "42                                 Foul Ole Ron  Men at Arms\n",
       "45                                   Fred Colon  Men at Arms\n",
       "56                                      Gaspode  Men at Arms\n",
       "61                            Havelock Vetinari  Men at Arms\n",
       "74                  Leonard of Quirm (da Quirm)  Men at Arms\n",
       "107              Sir Samuel Vimes, Duke of Ankh  Men at Arms\n",
       "110  Sybil Deirdre Olgivanna Vimes (née Ramkin)  Men at Arms\n",
       "125                                   Willikins  Men at Arms"
      ]
     },
     "execution_count": 7,
     "metadata": {},
     "output_type": "execute_result"
    }
   ],
   "source": [
    "b.num_char(print_char='y')"
   ]
  },
  {
   "cell_type": "markdown",
   "metadata": {},
   "source": [
    "### Answer to 3b."
   ]
  },
  {
   "cell_type": "code",
   "execution_count": 8,
   "metadata": {},
   "outputs": [
    {
     "name": "stdout",
     "output_type": "stream",
     "text": [
      "There are no common appearances of the characters Visit-The-Infidel-With-Explanatory-Pamphlets and Evadne Cake in any book\n"
     ]
    }
   ],
   "source": [
    "b.same_books()"
   ]
  },
  {
   "cell_type": "code",
   "execution_count": null,
   "metadata": {},
   "outputs": [],
   "source": []
  }
 ],
 "metadata": {
  "kernelspec": {
   "display_name": "Python 3",
   "language": "python",
   "name": "python3"
  },
  "language_info": {
   "codemirror_mode": {
    "name": "ipython",
    "version": 3
   },
   "file_extension": ".py",
   "mimetype": "text/x-python",
   "name": "python",
   "nbconvert_exporter": "python",
   "pygments_lexer": "ipython3",
   "version": "3.7.7"
  }
 },
 "nbformat": 4,
 "nbformat_minor": 4
}
