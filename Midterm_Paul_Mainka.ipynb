{
 "cells": [
  {
   "cell_type": "code",
   "execution_count": 2,
   "metadata": {},
   "outputs": [],
   "source": [
    "import requests\n",
    "import bs4\n",
    "from bs4 import BeautifulSoup\n",
    "from time import sleep\n",
    "import tqdm\n",
    "import pandas as pd\n",
    "import numpy as np"
   ]
  },
  {
   "cell_type": "markdown",
   "metadata": {},
   "source": [
    "### Get-Soup function\n",
    "#### Gets the text from the Website"
   ]
  },
  {
   "cell_type": "code",
   "execution_count": 3,
   "metadata": {},
   "outputs": [],
   "source": [
    "def getSoup(link):\n",
    "    '''\n",
    "    No big explanation needed as copied from the lecture, however I kept it on purpose out of the 'DownloaderMidterm' class, because it is in principle \n",
    "    reusable for multiple classes. Therefore it is more efficient to keep it outside of the class instead of using it as a class method for each class\n",
    "    (although of course here I just have one class so it would be the same).\n",
    "    '''\n",
    "    sleep(0.1) #to be kind to the website\n",
    "    r = requests.get(link)\n",
    "    r.encoding = 'UTF-8'\n",
    "    return BeautifulSoup(r.text,'lxml') #returns BeautifulSoup object in 'lxml' style"
   ]
  },
  {
   "cell_type": "code",
   "execution_count": 4,
   "metadata": {},
   "outputs": [],
   "source": [
    "soup=getSoup('http://wiki.lspace.org/mediawiki/List_of_Pratchett_characters')"
   ]
  },
  {
   "cell_type": "code",
   "execution_count": 15,
   "metadata": {},
   "outputs": [],
   "source": [
    "links=soup.find('span', id='Ankh-Morpork_and_The_Watch').parent.findNext('ul').find_all('li')\n",
    "characters= ['http://wiki.lspace.org' + li.find('a')['href'] for li in links]"
   ]
  },
  {
   "cell_type": "code",
   "execution_count": 16,
   "metadata": {},
   "outputs": [],
   "source": [
    "soup2 = getSoup(characters[0])"
   ]
  },
  {
   "cell_type": "code",
   "execution_count": 22,
   "metadata": {},
   "outputs": [
    {
     "data": {
      "text/plain": [
       "'Evadne Cake'"
      ]
     },
     "execution_count": 22,
     "metadata": {},
     "output_type": "execute_result"
    }
   ],
   "source": [
    "Name = soup2.find('b', text='Name').parent.next_sibling.next_sibling.text.strip()"
   ]
  },
  {
   "cell_type": "code",
   "execution_count": 29,
   "metadata": {},
   "outputs": [],
   "source": [
    "Books=soup2.find('a', title='Bibliography').parent.parent.next_sibling.next_sibling.find_all('a')\n",
    "book_list=[boo.text.strip() for boo in Books]"
   ]
  },
  {
   "cell_type": "code",
   "execution_count": 30,
   "metadata": {},
   "outputs": [],
   "source": [
    "alle_Namen=[]\n",
    "alle_Bucher=[]\n",
    "\n",
    "for char in characters:\n",
    "    soup2 = getSoup(char)\n",
    "    Name = soup2.find('b', text='Name').parent.next_sibling.next_sibling.text.strip()\n",
    "    alle_Namen.append(Name)\n",
    "    Books=soup2.find('a', title='Bibliography').parent.parent.next_sibling.next_sibling.find_all('a')\n",
    "    book_list=[boo.text.strip() for boo in Books]\n",
    "    alle_Bucher.append(book_list)"
   ]
  },
  {
   "cell_type": "code",
   "execution_count": 31,
   "metadata": {},
   "outputs": [
    {
     "data": {
      "text/plain": [
       "['Evadne Cake',\n",
       " 'Fred Colon',\n",
       " 'Marietta Cosmopilite',\n",
       " 'Detritus',\n",
       " 'Claude Maximillian Overton Transpire Dibbler',\n",
       " 'Dorfl',\n",
       " 'Rufus Drumknott',\n",
       " 'Gaspode',\n",
       " 'Carrot Ironfoundersson',\n",
       " 'Leonard of Quirm (da Quirm)',\n",
       " 'Cheery Littlebottom',\n",
       " 'Cecil Wormsborough St John Nobbs',\n",
       " 'Sybil Deirdre Olgivanna Vimes (née Ramkin)',\n",
       " 'Foul Ole Ron',\n",
       " 'Reginald Shoe',\n",
       " '',\n",
       " 'Delphine Angua von Überwald',\n",
       " 'Havelock Vetinari',\n",
       " 'Sir Samuel Vimes, Duke of Ankh',\n",
       " 'Visit-The-Infidel-With-Explanatory-Pamphlets',\n",
       " 'Willikins']"
      ]
     },
     "execution_count": 31,
     "metadata": {},
     "output_type": "execute_result"
    }
   ],
   "source": [
    "alle_Namen"
   ]
  },
  {
   "cell_type": "code",
   "execution_count": null,
   "metadata": {},
   "outputs": [],
   "source": []
  }
 ],
 "metadata": {
  "kernelspec": {
   "display_name": "Python 3",
   "language": "python",
   "name": "python3"
  },
  "language_info": {
   "codemirror_mode": {
    "name": "ipython",
    "version": 3
   },
   "file_extension": ".py",
   "mimetype": "text/x-python",
   "name": "python",
   "nbconvert_exporter": "python",
   "pygments_lexer": "ipython3",
   "version": "3.7.7"
  }
 },
 "nbformat": 4,
 "nbformat_minor": 4
}
